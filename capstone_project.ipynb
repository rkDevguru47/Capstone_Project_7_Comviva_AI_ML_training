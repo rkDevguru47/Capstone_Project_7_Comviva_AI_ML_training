{
 "cells": [
  {
   "cell_type": "markdown",
   "metadata": {},
   "source": [
    "<div style=\"background-color:#e6f5e6;\">\n",
    "<br/>\n",
    "<div style=\"text-align:center;\">\n",
    "  <img src=\"retail_gif.gif\" alt=\"Retail Analytics\" style=\"height:300px; width:400px;\">\n",
    "</div>\n",
    "<div style=\"text-align:center; color:black;\">\n",
    "<h2>Capstone Project 7</h2>\n",
    "<h3>Retail Analytics</h3>\n",
    "</div><br/>\n",
    "</div>\n",
    "<hr/>"
   ]
  },
  {
   "cell_type": "markdown",
   "metadata": {},
   "source": [
    "### BY GROUP 15 :\n",
    "| Name               | Registration_Id|\n",
    "|--------------------|----------------|\n",
    "| SANJEEP ROUT       | 2041018144     |\n",
    "| JEET ACHARYA       | 2041001009     |\n",
    "| PALAK AGARWAL      | 2041001024     |\n",
    "| AMRUTTA DHAL       | 2041004146     |\n",
    "| PRIYAJIT GANTAYAT  | 2041007003     |\n",
    "| RISHU KUMAR        | 2041011066     |"
   ]
  },
  {
   "cell_type": "markdown",
   "metadata": {},
   "source": [
    "### Details \n",
    "\n",
    "A retail company “ABC Private Limited” wants to understand the customer purchase \n",
    "behaviour (specifically, purchase amount) against various products of different categories. \n",
    "They have shared purchase summary of various customers for selected high-volume products \n",
    "from last month. "
   ]
  },
  {
   "cell_type": "code",
   "execution_count": 1,
   "metadata": {},
   "outputs": [],
   "source": [
    "# libraray imports\n",
    "import pandas as pd\n",
    "import seaborn as sns"
   ]
  },
  {
   "cell_type": "code",
   "execution_count": 4,
   "metadata": {},
   "outputs": [],
   "source": [
    "# files imports \n",
    "# a. Load the dataset\n",
    "user_demographics = r\"P:\\0011 NOTES\\aii+ml-comviva\\Capstone_Project_7\\user_demographics.csv\"\n",
    "user_purchase_details = r\"P:\\0011 NOTES\\aii+ml-comviva\\Capstone_Project_7\\User_product_purchase_details_p2.csv\""
   ]
  },
  {
   "cell_type": "code",
   "execution_count": 18,
   "metadata": {},
   "outputs": [],
   "source": [
    "# data details\n",
    "df1 = pd.read_csv(user_demographics)\n",
    "df2 = pd.read_csv(user_purchase_details)"
   ]
  },
  {
   "cell_type": "markdown",
   "metadata": {},
   "source": [
    "## DATA EXPLORATION"
   ]
  },
  {
   "cell_type": "markdown",
   "metadata": {},
   "source": [
    "#### 1 user_demographics data"
   ]
  },
  {
   "cell_type": "code",
   "execution_count": 22,
   "metadata": {},
   "outputs": [
    {
     "name": "stdout",
     "output_type": "stream",
     "text": [
      "      User_ID Gender    Age  Occupation\n",
      "0     1000001      F   0-17          10\n",
      "1     1000002      M    55+          16\n",
      "2     1000003      M  26-35          15\n",
      "3     1000004      M  46-50           7\n",
      "4     1000005      M  26-35          20\n",
      "...       ...    ...    ...         ...\n",
      "5886  1004588      F  26-35           4\n",
      "5887  1004871      M  18-25          12\n",
      "5888  1004113      M  36-45          17\n",
      "5889  1005391      M  26-35           7\n",
      "5890  1001529      M  18-25           4\n",
      "\n",
      "[5891 rows x 4 columns]\n"
     ]
    }
   ],
   "source": [
    "print(df1)"
   ]
  },
  {
   "cell_type": "code",
   "execution_count": 36,
   "metadata": {},
   "outputs": [
    {
     "data": {
      "text/html": [
       "<div>\n",
       "<style scoped>\n",
       "    .dataframe tbody tr th:only-of-type {\n",
       "        vertical-align: middle;\n",
       "    }\n",
       "\n",
       "    .dataframe tbody tr th {\n",
       "        vertical-align: top;\n",
       "    }\n",
       "\n",
       "    .dataframe thead th {\n",
       "        text-align: right;\n",
       "    }\n",
       "</style>\n",
       "<table border=\"1\" class=\"dataframe\">\n",
       "  <thead>\n",
       "    <tr style=\"text-align: right;\">\n",
       "      <th></th>\n",
       "      <th>User_ID</th>\n",
       "      <th>Gender</th>\n",
       "      <th>Age</th>\n",
       "      <th>Occupation</th>\n",
       "    </tr>\n",
       "  </thead>\n",
       "  <tbody>\n",
       "    <tr>\n",
       "      <th>4411</th>\n",
       "      <td>1005008</td>\n",
       "      <td>M</td>\n",
       "      <td>26-35</td>\n",
       "      <td>20</td>\n",
       "    </tr>\n",
       "    <tr>\n",
       "      <th>4415</th>\n",
       "      <td>1005012</td>\n",
       "      <td>M</td>\n",
       "      <td>51-55</td>\n",
       "      <td>15</td>\n",
       "    </tr>\n",
       "    <tr>\n",
       "      <th>2285</th>\n",
       "      <td>1002590</td>\n",
       "      <td>M</td>\n",
       "      <td>18-25</td>\n",
       "      <td>4</td>\n",
       "    </tr>\n",
       "    <tr>\n",
       "      <th>3720</th>\n",
       "      <td>1004220</td>\n",
       "      <td>M</td>\n",
       "      <td>36-45</td>\n",
       "      <td>0</td>\n",
       "    </tr>\n",
       "    <tr>\n",
       "      <th>2883</th>\n",
       "      <td>1003283</td>\n",
       "      <td>M</td>\n",
       "      <td>36-45</td>\n",
       "      <td>16</td>\n",
       "    </tr>\n",
       "  </tbody>\n",
       "</table>\n",
       "</div>"
      ],
      "text/plain": [
       "      User_ID Gender    Age  Occupation\n",
       "4411  1005008      M  26-35          20\n",
       "4415  1005012      M  51-55          15\n",
       "2285  1002590      M  18-25           4\n",
       "3720  1004220      M  36-45           0\n",
       "2883  1003283      M  36-45          16"
      ]
     },
     "execution_count": 36,
     "metadata": {},
     "output_type": "execute_result"
    }
   ],
   "source": [
    "df1.sample(5)"
   ]
  },
  {
   "cell_type": "code",
   "execution_count": 14,
   "metadata": {},
   "outputs": [
    {
     "name": "stdout",
     "output_type": "stream",
     "text": [
      "<bound method NDFrame.head of       User_ID Gender    Age  Occupation\n",
      "0     1000001      F   0-17          10\n",
      "1     1000002      M    55+          16\n",
      "2     1000003      M  26-35          15\n",
      "3     1000004      M  46-50           7\n",
      "4     1000005      M  26-35          20\n",
      "...       ...    ...    ...         ...\n",
      "5886  1004588      F  26-35           4\n",
      "5887  1004871      M  18-25          12\n",
      "5888  1004113      M  36-45          17\n",
      "5889  1005391      M  26-35           7\n",
      "5890  1001529      M  18-25           4\n",
      "\n",
      "[5891 rows x 4 columns]>\n"
     ]
    }
   ],
   "source": [
    "print(df1.head)"
   ]
  },
  {
   "cell_type": "code",
   "execution_count": 15,
   "metadata": {},
   "outputs": [
    {
     "name": "stdout",
     "output_type": "stream",
     "text": [
      "<class 'pandas.core.frame.DataFrame'>\n",
      "RangeIndex: 5891 entries, 0 to 5890\n",
      "Data columns (total 4 columns):\n",
      " #   Column      Non-Null Count  Dtype \n",
      "---  ------      --------------  ----- \n",
      " 0   User_ID     5891 non-null   int64 \n",
      " 1   Gender      5891 non-null   object\n",
      " 2   Age         5891 non-null   object\n",
      " 3   Occupation  5891 non-null   int64 \n",
      "dtypes: int64(2), object(2)\n",
      "memory usage: 184.2+ KB\n",
      "None\n"
     ]
    }
   ],
   "source": [
    "print(df1.info())\n"
   ]
  },
  {
   "cell_type": "code",
   "execution_count": 16,
   "metadata": {},
   "outputs": [
    {
     "name": "stdout",
     "output_type": "stream",
     "text": [
      "            User_ID   Occupation\n",
      "count  5.891000e+03  5891.000000\n",
      "mean   1.003025e+06     8.153285\n",
      "std    1.743379e+03     6.323140\n",
      "min    1.000001e+06     0.000000\n",
      "25%    1.001518e+06     3.000000\n",
      "50%    1.003026e+06     7.000000\n",
      "75%    1.004532e+06    14.000000\n",
      "max    1.006040e+06    20.000000\n"
     ]
    }
   ],
   "source": [
    "print(df1.describe())\n"
   ]
  },
  {
   "cell_type": "code",
   "execution_count": 17,
   "metadata": {},
   "outputs": [
    {
     "name": "stdout",
     "output_type": "stream",
     "text": [
      "(5891, 4)\n"
     ]
    }
   ],
   "source": [
    "print(df1.shape)"
   ]
  },
  {
   "cell_type": "markdown",
   "metadata": {},
   "source": [
    "#### 2 user_purchase_details data"
   ]
  },
  {
   "cell_type": "code",
   "execution_count": 23,
   "metadata": {},
   "outputs": [
    {
     "name": "stdout",
     "output_type": "stream",
     "text": [
      "        User_ID Product_ID City_Category Stay_In_Current_City_Years  \\\n",
      "0       1000001  P00069042             A                          2   \n",
      "1       1000001  P00248942             A                          2   \n",
      "2       1000001  P00087842             A                          2   \n",
      "3       1000001  P00085442             A                          2   \n",
      "4       1000002  P00285442             C                         4+   \n",
      "...         ...        ...           ...                        ...   \n",
      "550063  1006033  P00372445             B                          1   \n",
      "550064  1006035  P00375436             C                          3   \n",
      "550065  1006036  P00375436             B                         4+   \n",
      "550066  1006038  P00375436             C                          2   \n",
      "550067  1006039  P00371644             B                         4+   \n",
      "\n",
      "        Marital_Status  Product_Category_1  Product_Category_2  \\\n",
      "0                    0                   3                 NaN   \n",
      "1                    0                   1                 6.0   \n",
      "2                    0                  12                 NaN   \n",
      "3                    0                  12                14.0   \n",
      "4                    0                   8                 NaN   \n",
      "...                ...                 ...                 ...   \n",
      "550063               1                  20                 NaN   \n",
      "550064               0                  20                 NaN   \n",
      "550065               1                  20                 NaN   \n",
      "550066               0                  20                 NaN   \n",
      "550067               1                  20                 NaN   \n",
      "\n",
      "        Product_Category_3  Purchase  \n",
      "0                      NaN      8370  \n",
      "1                     14.0     15200  \n",
      "2                      NaN      1422  \n",
      "3                      NaN      1057  \n",
      "4                      NaN      7969  \n",
      "...                    ...       ...  \n",
      "550063                 NaN       368  \n",
      "550064                 NaN       371  \n",
      "550065                 NaN       137  \n",
      "550066                 NaN       365  \n",
      "550067                 NaN       490  \n",
      "\n",
      "[550068 rows x 9 columns]\n"
     ]
    }
   ],
   "source": [
    "print(df2)"
   ]
  },
  {
   "cell_type": "code",
   "execution_count": 37,
   "metadata": {},
   "outputs": [
    {
     "data": {
      "text/html": [
       "<div>\n",
       "<style scoped>\n",
       "    .dataframe tbody tr th:only-of-type {\n",
       "        vertical-align: middle;\n",
       "    }\n",
       "\n",
       "    .dataframe tbody tr th {\n",
       "        vertical-align: top;\n",
       "    }\n",
       "\n",
       "    .dataframe thead th {\n",
       "        text-align: right;\n",
       "    }\n",
       "</style>\n",
       "<table border=\"1\" class=\"dataframe\">\n",
       "  <thead>\n",
       "    <tr style=\"text-align: right;\">\n",
       "      <th></th>\n",
       "      <th>User_ID</th>\n",
       "      <th>Product_ID</th>\n",
       "      <th>City_Category</th>\n",
       "      <th>Stay_In_Current_City_Years</th>\n",
       "      <th>Marital_Status</th>\n",
       "      <th>Product_Category_1</th>\n",
       "      <th>Product_Category_2</th>\n",
       "      <th>Product_Category_3</th>\n",
       "      <th>Purchase</th>\n",
       "    </tr>\n",
       "  </thead>\n",
       "  <tbody>\n",
       "    <tr>\n",
       "      <th>140317</th>\n",
       "      <td>1003676</td>\n",
       "      <td>P00345842</td>\n",
       "      <td>B</td>\n",
       "      <td>3</td>\n",
       "      <td>1</td>\n",
       "      <td>2</td>\n",
       "      <td>8.0</td>\n",
       "      <td>14.0</td>\n",
       "      <td>9972</td>\n",
       "    </tr>\n",
       "    <tr>\n",
       "      <th>501609</th>\n",
       "      <td>1005269</td>\n",
       "      <td>P00150942</td>\n",
       "      <td>B</td>\n",
       "      <td>4+</td>\n",
       "      <td>0</td>\n",
       "      <td>6</td>\n",
       "      <td>11.0</td>\n",
       "      <td>13.0</td>\n",
       "      <td>8618</td>\n",
       "    </tr>\n",
       "    <tr>\n",
       "      <th>157694</th>\n",
       "      <td>1000352</td>\n",
       "      <td>P00246342</td>\n",
       "      <td>A</td>\n",
       "      <td>0</td>\n",
       "      <td>0</td>\n",
       "      <td>11</td>\n",
       "      <td>15.0</td>\n",
       "      <td>NaN</td>\n",
       "      <td>6154</td>\n",
       "    </tr>\n",
       "    <tr>\n",
       "      <th>505654</th>\n",
       "      <td>1005886</td>\n",
       "      <td>P00247042</td>\n",
       "      <td>A</td>\n",
       "      <td>2</td>\n",
       "      <td>0</td>\n",
       "      <td>5</td>\n",
       "      <td>14.0</td>\n",
       "      <td>NaN</td>\n",
       "      <td>5215</td>\n",
       "    </tr>\n",
       "    <tr>\n",
       "      <th>142780</th>\n",
       "      <td>1004016</td>\n",
       "      <td>P00259942</td>\n",
       "      <td>B</td>\n",
       "      <td>1</td>\n",
       "      <td>0</td>\n",
       "      <td>16</td>\n",
       "      <td>NaN</td>\n",
       "      <td>NaN</td>\n",
       "      <td>12116</td>\n",
       "    </tr>\n",
       "  </tbody>\n",
       "</table>\n",
       "</div>"
      ],
      "text/plain": [
       "        User_ID Product_ID City_Category Stay_In_Current_City_Years  \\\n",
       "140317  1003676  P00345842             B                          3   \n",
       "501609  1005269  P00150942             B                         4+   \n",
       "157694  1000352  P00246342             A                          0   \n",
       "505654  1005886  P00247042             A                          2   \n",
       "142780  1004016  P00259942             B                          1   \n",
       "\n",
       "        Marital_Status  Product_Category_1  Product_Category_2  \\\n",
       "140317               1                   2                 8.0   \n",
       "501609               0                   6                11.0   \n",
       "157694               0                  11                15.0   \n",
       "505654               0                   5                14.0   \n",
       "142780               0                  16                 NaN   \n",
       "\n",
       "        Product_Category_3  Purchase  \n",
       "140317                14.0      9972  \n",
       "501609                13.0      8618  \n",
       "157694                 NaN      6154  \n",
       "505654                 NaN      5215  \n",
       "142780                 NaN     12116  "
      ]
     },
     "execution_count": 37,
     "metadata": {},
     "output_type": "execute_result"
    }
   ],
   "source": [
    "df2.sample(5)"
   ]
  },
  {
   "cell_type": "code",
   "execution_count": 24,
   "metadata": {},
   "outputs": [
    {
     "name": "stdout",
     "output_type": "stream",
     "text": [
      "<bound method NDFrame.head of         User_ID Product_ID City_Category Stay_In_Current_City_Years  \\\n",
      "0       1000001  P00069042             A                          2   \n",
      "1       1000001  P00248942             A                          2   \n",
      "2       1000001  P00087842             A                          2   \n",
      "3       1000001  P00085442             A                          2   \n",
      "4       1000002  P00285442             C                         4+   \n",
      "...         ...        ...           ...                        ...   \n",
      "550063  1006033  P00372445             B                          1   \n",
      "550064  1006035  P00375436             C                          3   \n",
      "550065  1006036  P00375436             B                         4+   \n",
      "550066  1006038  P00375436             C                          2   \n",
      "550067  1006039  P00371644             B                         4+   \n",
      "\n",
      "        Marital_Status  Product_Category_1  Product_Category_2  \\\n",
      "0                    0                   3                 NaN   \n",
      "1                    0                   1                 6.0   \n",
      "2                    0                  12                 NaN   \n",
      "3                    0                  12                14.0   \n",
      "4                    0                   8                 NaN   \n",
      "...                ...                 ...                 ...   \n",
      "550063               1                  20                 NaN   \n",
      "550064               0                  20                 NaN   \n",
      "550065               1                  20                 NaN   \n",
      "550066               0                  20                 NaN   \n",
      "550067               1                  20                 NaN   \n",
      "\n",
      "        Product_Category_3  Purchase  \n",
      "0                      NaN      8370  \n",
      "1                     14.0     15200  \n",
      "2                      NaN      1422  \n",
      "3                      NaN      1057  \n",
      "4                      NaN      7969  \n",
      "...                    ...       ...  \n",
      "550063                 NaN       368  \n",
      "550064                 NaN       371  \n",
      "550065                 NaN       137  \n",
      "550066                 NaN       365  \n",
      "550067                 NaN       490  \n",
      "\n",
      "[550068 rows x 9 columns]>\n"
     ]
    }
   ],
   "source": [
    "print(df2.head)"
   ]
  },
  {
   "cell_type": "code",
   "execution_count": 25,
   "metadata": {},
   "outputs": [
    {
     "name": "stdout",
     "output_type": "stream",
     "text": [
      "<class 'pandas.core.frame.DataFrame'>\n",
      "RangeIndex: 550068 entries, 0 to 550067\n",
      "Data columns (total 9 columns):\n",
      " #   Column                      Non-Null Count   Dtype  \n",
      "---  ------                      --------------   -----  \n",
      " 0   User_ID                     550068 non-null  int64  \n",
      " 1   Product_ID                  550068 non-null  object \n",
      " 2   City_Category               550068 non-null  object \n",
      " 3   Stay_In_Current_City_Years  550068 non-null  object \n",
      " 4   Marital_Status              550068 non-null  int64  \n",
      " 5   Product_Category_1          550068 non-null  int64  \n",
      " 6   Product_Category_2          376430 non-null  float64\n",
      " 7   Product_Category_3          166821 non-null  float64\n",
      " 8   Purchase                    550068 non-null  int64  \n",
      "dtypes: float64(2), int64(4), object(3)\n",
      "memory usage: 37.8+ MB\n",
      "None\n"
     ]
    }
   ],
   "source": [
    "print(df2.info())"
   ]
  },
  {
   "cell_type": "code",
   "execution_count": 26,
   "metadata": {},
   "outputs": [
    {
     "name": "stdout",
     "output_type": "stream",
     "text": [
      "            User_ID  Marital_Status  Product_Category_1  Product_Category_2  \\\n",
      "count  5.500680e+05   550068.000000       550068.000000       376430.000000   \n",
      "mean   1.003029e+06        0.409653            5.404270            9.842329   \n",
      "std    1.727592e+03        0.491770            3.936211            5.086590   \n",
      "min    1.000001e+06        0.000000            1.000000            2.000000   \n",
      "25%    1.001516e+06        0.000000            1.000000            5.000000   \n",
      "50%    1.003077e+06        0.000000            5.000000            9.000000   \n",
      "75%    1.004478e+06        1.000000            8.000000           15.000000   \n",
      "max    1.006040e+06        1.000000           20.000000           18.000000   \n",
      "\n",
      "       Product_Category_3       Purchase  \n",
      "count       166821.000000  550068.000000  \n",
      "mean            12.668243    9263.968713  \n",
      "std              4.125338    5023.065394  \n",
      "min              3.000000      12.000000  \n",
      "25%              9.000000    5823.000000  \n",
      "50%             14.000000    8047.000000  \n",
      "75%             16.000000   12054.000000  \n",
      "max             18.000000   23961.000000  \n"
     ]
    }
   ],
   "source": [
    "print(df2.describe())"
   ]
  },
  {
   "cell_type": "code",
   "execution_count": 27,
   "metadata": {},
   "outputs": [
    {
     "name": "stdout",
     "output_type": "stream",
     "text": [
      "(5891, 4)\n"
     ]
    }
   ],
   "source": [
    "print(df1.shape)"
   ]
  },
  {
   "cell_type": "markdown",
   "metadata": {},
   "source": [
    "c. Data cleaning: <br/>\n",
    "* Identify and handle missing values, outliers, and inconsistent data. <br/>\n",
    "* Implement appropriate techniques to clean the data, such as dropping or imputing missing \n",
    "values, removing outliers, and addressing inconsistent entries. "
   ]
  },
  {
   "cell_type": "code",
   "execution_count": 34,
   "metadata": {},
   "outputs": [
    {
     "name": "stdout",
     "output_type": "stream",
     "text": [
      "user demographics- \n",
      " User_ID       0\n",
      "Gender        0\n",
      "Age           0\n",
      "Occupation    0\n",
      "dtype: int64\n",
      "\n",
      "\n",
      "user purchase details - \n",
      " User_ID                            0\n",
      "Product_ID                         0\n",
      "City_Category                      0\n",
      "Stay_In_Current_City_Years         0\n",
      "Marital_Status                     0\n",
      "Product_Category_1                 0\n",
      "Product_Category_2            173638\n",
      "Product_Category_3            383247\n",
      "Purchase                           0\n",
      "dtype: int64\n"
     ]
    }
   ],
   "source": [
    "# missing values in data\n",
    "print('user demographics- \\n',df1.isnull().sum())\n",
    "print('\\n\\nuser purchase details - \\n',df2.isnull().sum())"
   ]
  },
  {
   "cell_type": "code",
   "execution_count": 35,
   "metadata": {},
   "outputs": [
    {
     "name": "stdout",
     "output_type": "stream",
     "text": [
      "user demographics- \n",
      " 0\n",
      "\n",
      "\n",
      "user purchase details - \n",
      " 0\n"
     ]
    }
   ],
   "source": [
    "# duplicated values in data\n",
    "print('user demographics- \\n',df1.duplicated().sum())\n",
    "print('\\n\\nuser purchase details - \\n',df2.duplicated().sum())"
   ]
  },
  {
   "cell_type": "code",
   "execution_count": null,
   "metadata": {},
   "outputs": [],
   "source": []
  }
 ],
 "metadata": {
  "kernelspec": {
   "display_name": "Python 3",
   "language": "python",
   "name": "python3"
  },
  "language_info": {
   "codemirror_mode": {
    "name": "ipython",
    "version": 3
   },
   "file_extension": ".py",
   "mimetype": "text/x-python",
   "name": "python",
   "nbconvert_exporter": "python",
   "pygments_lexer": "ipython3",
   "version": "3.11.3"
  },
  "orig_nbformat": 4
 },
 "nbformat": 4,
 "nbformat_minor": 2
}
